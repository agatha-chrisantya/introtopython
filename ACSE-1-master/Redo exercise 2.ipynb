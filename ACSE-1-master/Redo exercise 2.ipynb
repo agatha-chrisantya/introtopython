{
 "cells": [
  {
   "cell_type": "markdown",
   "metadata": {},
   "source": [
    "# Import required Packages"
   ]
  },
  {
   "cell_type": "code",
   "execution_count": null,
   "metadata": {},
   "outputs": [],
   "source": [
    "import numpy as np\n",
    "import pandas as pd\n",
    "import matplotlib.pyplot as plt\n",
    "import math"
   ]
  },
  {
   "cell_type": "markdown",
   "metadata": {},
   "source": [
    "# Problem statment"
   ]
  },
  {
   "cell_type": "code",
   "execution_count": null,
   "metadata": {},
   "outputs": [],
   "source": [
    "#Initialize reservoir and fluid parameters\n",
    "k = 150. #md\n",
    "h = 100. #ft\n",
    "PRg = 4000. #psi\n",
    "Pwfg= 3600. #psi\n",
    "Re = 2500. #ft\n",
    "Rw = 0.33 #ft\n",
    "Temp = 110. #DegC #[Hint-1] convert from Degree C to Degree R\n",
    "\n",
    "Skin = 6 #Dimensionless\n",
    "D = 4.3E-5 #Dimensionless\n",
    "#PVT Table\n",
    "GasPVT = {'PwfGasRange': [4000, 3897, 3500, 3000, 2500, 2000, 1500, 1000, 500, 14.7],\n",
    "          'Zfact': [0.9539, 0.9476, 0.9295, 0.9121, 0.9022, 0.9013, 0.9106, 0.9301, 0.9596, 0.9986],\n",
    "          'GasVisc': [0.024, 0.0236, 0.022, 0.02, 0.0182, 0.0166, 0.0153, 0.0144, 0.0137, 0.0132],\n",
    "          'GasBg': [0.004769, 0.004863, 0.005301, 0.006056, 0.007175, 0.008946, 0.012034, 0.018424, 0.038039, 1.35459]\n",
    "         }"
   ]
  },
  {
   "cell_type": "markdown",
   "metadata": {},
   "source": [
    "# Answer\n",
    "## Build IPR, and AOF\n",
    "No function is needed for converting a constant"
   ]
  },
  {
   "cell_type": "code",
   "execution_count": 3,
   "metadata": {},
   "outputs": [
    {
     "data": {
      "text/html": [
       "<div>\n",
       "<style scoped>\n",
       "    .dataframe tbody tr th:only-of-type {\n",
       "        vertical-align: middle;\n",
       "    }\n",
       "\n",
       "    .dataframe tbody tr th {\n",
       "        vertical-align: top;\n",
       "    }\n",
       "\n",
       "    .dataframe thead th {\n",
       "        text-align: right;\n",
       "    }\n",
       "</style>\n",
       "<table border=\"1\" class=\"dataframe\">\n",
       "  <thead>\n",
       "    <tr style=\"text-align: right;\">\n",
       "      <th></th>\n",
       "      <th>PwfGasRange</th>\n",
       "      <th>Zfact</th>\n",
       "      <th>GasVisc</th>\n",
       "      <th>GasBg</th>\n",
       "    </tr>\n",
       "  </thead>\n",
       "  <tbody>\n",
       "    <tr>\n",
       "      <th>0</th>\n",
       "      <td>4000.0</td>\n",
       "      <td>0.9539</td>\n",
       "      <td>0.0240</td>\n",
       "      <td>0.004769</td>\n",
       "    </tr>\n",
       "    <tr>\n",
       "      <th>1</th>\n",
       "      <td>3897.0</td>\n",
       "      <td>0.9476</td>\n",
       "      <td>0.0236</td>\n",
       "      <td>0.004863</td>\n",
       "    </tr>\n",
       "    <tr>\n",
       "      <th>2</th>\n",
       "      <td>3500.0</td>\n",
       "      <td>0.9295</td>\n",
       "      <td>0.0220</td>\n",
       "      <td>0.005301</td>\n",
       "    </tr>\n",
       "    <tr>\n",
       "      <th>3</th>\n",
       "      <td>3000.0</td>\n",
       "      <td>0.9121</td>\n",
       "      <td>0.0200</td>\n",
       "      <td>0.006056</td>\n",
       "    </tr>\n",
       "    <tr>\n",
       "      <th>4</th>\n",
       "      <td>2500.0</td>\n",
       "      <td>0.9022</td>\n",
       "      <td>0.0182</td>\n",
       "      <td>0.007175</td>\n",
       "    </tr>\n",
       "    <tr>\n",
       "      <th>5</th>\n",
       "      <td>2000.0</td>\n",
       "      <td>0.9013</td>\n",
       "      <td>0.0166</td>\n",
       "      <td>0.008946</td>\n",
       "    </tr>\n",
       "    <tr>\n",
       "      <th>6</th>\n",
       "      <td>1500.0</td>\n",
       "      <td>0.9106</td>\n",
       "      <td>0.0153</td>\n",
       "      <td>0.012034</td>\n",
       "    </tr>\n",
       "    <tr>\n",
       "      <th>7</th>\n",
       "      <td>1000.0</td>\n",
       "      <td>0.9301</td>\n",
       "      <td>0.0144</td>\n",
       "      <td>0.018424</td>\n",
       "    </tr>\n",
       "    <tr>\n",
       "      <th>8</th>\n",
       "      <td>500.0</td>\n",
       "      <td>0.9596</td>\n",
       "      <td>0.0137</td>\n",
       "      <td>0.038039</td>\n",
       "    </tr>\n",
       "    <tr>\n",
       "      <th>9</th>\n",
       "      <td>14.7</td>\n",
       "      <td>0.9986</td>\n",
       "      <td>0.0132</td>\n",
       "      <td>1.354590</td>\n",
       "    </tr>\n",
       "  </tbody>\n",
       "</table>\n",
       "</div>"
      ],
      "text/plain": [
       "   PwfGasRange   Zfact  GasVisc     GasBg\n",
       "0       4000.0  0.9539   0.0240  0.004769\n",
       "1       3897.0  0.9476   0.0236  0.004863\n",
       "2       3500.0  0.9295   0.0220  0.005301\n",
       "3       3000.0  0.9121   0.0200  0.006056\n",
       "4       2500.0  0.9022   0.0182  0.007175\n",
       "5       2000.0  0.9013   0.0166  0.008946\n",
       "6       1500.0  0.9106   0.0153  0.012034\n",
       "7       1000.0  0.9301   0.0144  0.018424\n",
       "8        500.0  0.9596   0.0137  0.038039\n",
       "9         14.7  0.9986   0.0132  1.354590"
      ]
     },
     "execution_count": 3,
     "metadata": {},
     "output_type": "execute_result"
    }
   ],
   "source": [
    "T = Temp * 9/5 + 491.67\n",
    "df = pd.DataFrame(GasPVT)\n",
    "df"
   ]
  },
  {
   "cell_type": "markdown",
   "metadata": {},
   "source": [
    "- Pandas object works like numpy object. Iterate over the row or any index make the program run slower (incase dealing with big data). Try to use **vectorization** in numpy, pandas, etc if possible.\n",
    "\n",
    "- Try not to copy a variable if already stored in an object (as long as possible). Memory management is importang when dealing with big data.\n",
    "\n",
    "- Disclaimer : Ask bang feldy for the proper workflow finding gas rate. Those three lines below were taken from eq 29, 30, and 7. Anyway Latex markdown can be used for graph title in matplotlib.\n",
    "\n",
    "$$\n",
    "  a = \\frac{1422 \\mu z T \\left( \\ln \\frac {r_e}{r_w} - 0.75 + s \\right)}{kh} \n",
    "$$ \n",
    "\n",
    "$$\n",
    "  b = \\frac{1422 \\mu z T}{kh} D\n",
    "$$\n",
    "\n",
    "$$\n",
    "    \\overline{P_R}^2 - P_{wf}^2 = aq_g + bq_q^2\n",
    "$$\n",
    "-  Below code to emphasize that someone can write code as short as possible but still honoring readibility and efficiency.\n",
    "\n",
    "- IPR is built and AOF can be interpreted"
   ]
  },
  {
   "cell_type": "code",
   "execution_count": 6,
   "metadata": {},
   "outputs": [
    {
     "name": "stdout",
     "output_type": "stream",
     "text": [
      "9.5 ms ± 1.33 ms per loop (mean ± std. dev. of 7 runs, 100 loops each)\n"
     ]
    }
   ],
   "source": [
    "%%timeit\n",
    "df['coef a'] = (1422. * df['GasVisc'] * df['Zfact'] * T * (np.log(Re/Rw) - 0.75 + Skin)) / (k* h)\n",
    "df['coef b'] = (1422. * df['GasVisc'] * df['Zfact'] * T * D) / (k* h)\n",
    "df['gas rate'] = (- df['coef a'] + np.sqrt (df['coef a']**2 + 4*df['coef b'] * (PRg**2 - df['PwfGasRange']**2))) / \\\n",
    "(2 * df['coef b'])\n",
    "df"
   ]
  },
  {
   "cell_type": "markdown",
   "metadata": {},
   "source": [
    "This graph is not a good example for showing result to audience. Try using proper figsize, title, marker & line, etc."
   ]
  },
  {
   "cell_type": "code",
   "execution_count": null,
   "metadata": {},
   "outputs": [],
   "source": [
    "df.plot.scatter('gas rate', 'PwfGasRange')\n",
    "plt.title('IPR')\n",
    "plt.show()"
   ]
  },
  {
   "cell_type": "markdown",
   "metadata": {},
   "source": [
    "## Complimentary material -  how to make regression using numpy\n",
    "You can use numpy, scikit, pandas, or whatever regression tools available in python.\n",
    "\n",
    "Note : i flipped the order from np.polyfit result to make y calculation easier later. \n",
    "Source : https://numpy.org/doc/stable/reference/generated/numpy.polyfit.html"
   ]
  },
  {
   "cell_type": "code",
   "execution_count": null,
   "metadata": {},
   "outputs": [],
   "source": [
    "regress = np.polyfit(df['gas rate'], df['PwfGasRange'],2)\n",
    "regress = regress[::-1]"
   ]
  },
  {
   "cell_type": "code",
   "execution_count": null,
   "metadata": {},
   "outputs": [],
   "source": [
    "x = np.linspace(0., 513000., 200)\n",
    "y = np.zeros_like(x)\n",
    "for _ in range(len(regress)):\n",
    "    y += regress[_]*x**_ \n",
    "plt.scatter(df['gas rate'], df['PwfGasRange'])\n",
    "plt.plot(x,y)"
   ]
  },
  {
   "cell_type": "markdown",
   "metadata": {},
   "source": [
    "20% gas rate dari $P_{rg}$ cari sendiri ya. "
   ]
  },
  {
   "cell_type": "code",
   "execution_count": 7,
   "metadata": {},
   "outputs": [
    {
     "name": "stdout",
     "output_type": "stream",
     "text": [
      "   PwfGasRange   Zfact  GasVisc     GasBg  Qg\n",
      "0       4000.0  0.9539   0.0240  0.004769   0\n",
      "1       3897.0  0.9476   0.0236  0.004863   0\n",
      "2       3500.0  0.9295   0.0220  0.005301   0\n",
      "3       3000.0  0.9121   0.0200  0.006056   0\n",
      "4       2500.0  0.9022   0.0182  0.007175   0\n",
      "5       2000.0  0.9013   0.0166  0.008946   0\n",
      "6       1500.0  0.9106   0.0153  0.012034   0\n",
      "7       1000.0  0.9301   0.0144  0.018424   0\n",
      "8        500.0  0.9596   0.0137  0.038039   0\n",
      "9         14.7  0.9986   0.0132  1.354590   0\n",
      "   PwfGasRange   Zfact  GasVisc     GasBg             Qg\n",
      "0       4000.0  0.9539   0.0240  0.004769       0.000000\n",
      "1       3897.0  0.9476   0.0236  0.004863   35404.919829\n",
      "2       3500.0  0.9295   0.0220  0.005301  139050.050909\n",
      "3       3000.0  0.9121   0.0200  0.006056  239589.211721\n",
      "4       2500.0  0.9022   0.0182  0.007175  323249.659188\n",
      "5       2000.0  0.9013   0.0166  0.008946  393967.598665\n",
      "6       1500.0  0.9106   0.0153  0.012034  449963.893750\n",
      "7       1000.0  0.9301   0.0144  0.018424  487289.767384\n",
      "8        500.0  0.9596   0.0137  0.038039  508235.998023\n",
      "9         14.7  0.9986   0.0132  1.354590  512387.301690\n"
     ]
    },
    {
     "data": {
      "image/png": "[encoded data removed]",
      "text/plain": [
       "<Figure size 432x288 with 1 Axes>"
      ]
     },
     "metadata": {
      "needs_background": "light"
     },
     "output_type": "display_data"
    },
    {
     "name": "stdout",
     "output_type": "stream",
     "text": [
      " Q at Pwf 800psi =  495668.2596396 Mscf/D\n",
      "AOF = 512387.3016901217 Mscf/D\n"
     ]
    },
    {
     "data": {
      "image/png": "[encoded data removed]",
      "text/plain": [
       "<Figure size 432x288 with 1 Axes>"
      ]
     },
     "metadata": {
      "needs_background": "light"
     },
     "output_type": "display_data"
    }
   ],
   "source": [
    "\n",
    "\n",
    "import pandas as pd\n",
    "import numpy as np\n",
    "import sklearn as sk\n",
    "import matplotlib.pyplot as plt\n",
    "import math as math\n",
    "\n",
    "\n",
    "#Initialize reservoir and fluid parameters\n",
    "k = 150 #md\n",
    "h = 100 #ft\n",
    "PRg = 4000 #psi\n",
    "Pwfg = 3600 #psi\n",
    "Re = 2500 #ft\n",
    "Rw = 0.33 #ft\n",
    "Temp = 110 #DegC\n",
    "Skin = 6 #Dimensionless\n",
    "D = 4.3E-5 #Dimensionless\n",
    "\n",
    "\n",
    "\n",
    "#PVT Table\n",
    "GasPVT = {'PwfGasRange': [4000, 3897, 3500, 3000, 2500, 2000,\n",
    "1500, 1000, 500, 14.7],\n",
    "         'Zfact':[0.9539, 0.9476, 0.9295, 0.9121, 0.9022, 0.9013,\n",
    "0.9106, 0.9301, 0.9596, 0.9986],\n",
    "         'GasVisc': [0.024, 0.0236, 0.022, 0.02, 0.0182, 0.0166, \n",
    "0.0153, 0.0144, 0.0137, 0.0132],\n",
    "         'GasBg': [0.004769, 0.004863, 0.005301, 0.006056, 0.007175,\n",
    "0.008946, 0.012034, 0.018424, 0.038039, 1.35459],\n",
    "         'Qg': [0,0,0,0,0,0,0,0,0,0]}\n",
    "df = pd.DataFrame(GasPVT, columns = ['PwfGasRange','Zfact','GasVisc','GasBg','Qg'])\n",
    "print(df)\n",
    "\n",
    "\n",
    "#Define Function\n",
    "def GasFlowRate (k, h, Pr, Pwf, GasVisc, Z, T, re, rw, s, D, qgTebak):\n",
    "    \n",
    "    T=(T*9/5)+32+460 #degC Convert to R\n",
    "    \n",
    "    GasFlowRate = (k*h*(Pr**2-Pwf**2))/(1422*GasVisc*Z*T*(math.log(re/rw)-3/4+s+(D*qgTebak)))\n",
    "    error = abs((GasFlowRate-qgTebak)/qgTebak)\n",
    "    while (error>0.00000000001):\n",
    "        qgTebak = GasFlowRate\n",
    "        GasFlowRate = (k*h*(Pr**2-Pwf**2))/(1422*GasVisc*Z*T*(math.log(re/rw)-3/4+s+(D*qgTebak)))\n",
    "        error = abs((GasFlowRate-qgTebak)/qgTebak)\n",
    "    return GasFlowRate\n",
    "\n",
    "\n",
    "\n"
   ]
  },
  {
   "cell_type": "code",
   "execution_count": 9,
   "metadata": {},
   "outputs": [
    {
     "name": "stdout",
     "output_type": "stream",
     "text": [
      "9.04 ms ± 1.76 ms per loop (mean ± std. dev. of 7 runs, 100 loops each)\n"
     ]
    }
   ],
   "source": [
    "%%timeit\n",
    "for i in range (1,10):\n",
    "    df.loc[i,'Qg']=GasFlowRate(k,h,PRg,df.loc[i,'PwfGasRange'],df.loc[i,'GasVisc'],df.loc[i,'Zfact'],Temp,Re,Rw,Skin,D,1000)\n",
    "df\n"
   ]
  },
  {
   "cell_type": "code",
   "execution_count": null,
   "metadata": {},
   "outputs": [],
   "source": [
    "for i in range (1,10):\n",
    "    df.loc[i,'Qg']=GasFlowRate(k,h,PRg,df.loc[i,'PwfGasRange'],df.loc[i,'GasVisc'],df.loc[i,'Zfact'],Temp,Re,Rw,Skin,D,1000)\n",
    "print(df)\n",
    "\n",
    "df.plot(kind='line', x='Qg', y='PwfGasRange', color='green', style='.-')\n",
    "plt.xlabel('Qg(Mscf/D)')\n",
    "plt.ylabel('Pwf(psi)')\n",
    "plt.show()\n",
    "\n",
    "\n",
    "\n",
    "#Using interpolation method \n",
    "Qgas = ((800-500)/(1000-500))*(487289.767384-508235.998023)+508235.998023\n",
    "print(' Q at Pwf 800psi = ',Qgas,'Mscf/D')\n",
    "\n",
    "\n",
    "print('AOF =',df.loc[9,'Qg'],'Mscf/D')\n",
    "\n",
    "df.plot(kind='line', y='Qg', x='PwfGasRange', color='green', style='.-')\n",
    "plt.ylabel('Qg(Mscf/D)')\n",
    "plt.xlabel('Pwf(psi)')\n",
    "plt.show()"
   ]
  }
 ],
 "metadata": {
  "kernelspec": {
   "display_name": "Python 3",
   "language": "python",
   "name": "python3"
  },
  "language_info": {
   "codemirror_mode": {
    "name": "ipython",
    "version": 3
   },
   "file_extension": ".py",
   "mimetype": "text/x-python",
   "name": "python",
   "nbconvert_exporter": "python",
   "pygments_lexer": "ipython3",
   "version": "3.7.4"
  },
  "toc": {
   "base_numbering": 1,
   "nav_menu": {},
   "number_sections": true,
   "sideBar": true,
   "skip_h1_title": false,
   "title_cell": "Table of Contents",
   "title_sidebar": "Contents",
   "toc_cell": false,
   "toc_position": {},
   "toc_section_display": true,
   "toc_window_display": false
  }
 },
 "nbformat": 4,
 "nbformat_minor": 2
}
